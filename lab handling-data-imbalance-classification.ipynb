{
 "cells": [
  {
   "cell_type": "markdown",
   "id": "1b6df913-7015-4c44-a7b9-02f36bb141d5",
   "metadata": {},
   "source": [
    "# Lab | Handling Data Imbalance in Classification Models\n",
    "\n",
    "Jorge Castro DAPT NOV 2021\n",
    "\n",
    "For this lab and in the next lessons we will build a model on customer churn binary classification problem. You will be using `files_for_lab/Customer-Churn.csv` file.\n",
    "\n",
    "### Scenario\n",
    "\n",
    "You are working as an analyst with this internet service provider. You are provided with this historical data about your company's customers and their churn trends. Your task is to build a machine learning model that will help the company identify customers that are more likely to default/churn and thus prevent losses from such customers.\n",
    "\n",
    "### Instructions\n",
    "\n",
    "In this lab, we will first take a look at the degree of imbalance in the data and correct it using the techniques we learned on the class.\n",
    "\n",
    "Here is the list of steps to be followed (building a simple model without balancing the data):\n",
    "\n",
    "- Import the required libraries and modules that you would need.\n",
    "- Read that data into Python and call the dataframe `churnData`.\n",
    "- Check the datatypes of all the columns in the data. You would see that the column `TotalCharges` is object type. Convert this column into numeric type using `pd.to_numeric` function.\n",
    "- Check for null values in the dataframe. Replace the null values.\n",
    "- Use the following features: `tenure`, `SeniorCitizen`, `MonthlyCharges` and `TotalCharges`:\n",
    "  - Scale the features either by using normalizer or a standard scaler.\n",
    "  - Split the data into a training set and a test set.\n",
    "  - Fit a logistic regression model on the training data.\n",
    "  - Check the accuracy on the test data.\n",
    "\n",
    "**Note**: So far we have not balanced the data.\n",
    "\n",
    "Managing imbalance in the dataset\n",
    "\n",
    "- Check for the imbalance.\n",
    "- Use the resampling strategies used in class for upsampling and downsampling to create a balance between the two classes.\n",
    "- Each time fit the model and see how the accuracy of the model is."
   ]
  },
  {
   "cell_type": "code",
   "execution_count": null,
   "id": "9b8ecb3f-b23a-411e-b1fe-e53a3a6e2cde",
   "metadata": {},
   "outputs": [],
   "source": []
  },
  {
   "cell_type": "code",
   "execution_count": 1,
   "id": "337820d1-066e-442d-864a-d06259085764",
   "metadata": {},
   "outputs": [],
   "source": [
    "import pandas as pd\n",
    "import numpy as np\n",
    "import statsmodels.api as sm"
   ]
  },
  {
   "cell_type": "code",
   "execution_count": 2,
   "id": "f07bd2fa-c358-4edf-82bd-f06760afa411",
   "metadata": {},
   "outputs": [],
   "source": [
    "churnData = pd.read_csv('Customer-Churn.csv')"
   ]
  },
  {
   "cell_type": "code",
   "execution_count": 3,
   "id": "3e777061-1eb0-4536-89a1-b2ebce3070c1",
   "metadata": {},
   "outputs": [
    {
     "data": {
      "text/plain": [
       "gender               object\n",
       "SeniorCitizen         int64\n",
       "Partner              object\n",
       "Dependents           object\n",
       "tenure                int64\n",
       "PhoneService         object\n",
       "OnlineSecurity       object\n",
       "OnlineBackup         object\n",
       "DeviceProtection     object\n",
       "TechSupport          object\n",
       "StreamingTV          object\n",
       "StreamingMovies      object\n",
       "Contract             object\n",
       "MonthlyCharges      float64\n",
       "TotalCharges         object\n",
       "Churn                object\n",
       "dtype: object"
      ]
     },
     "execution_count": 3,
     "metadata": {},
     "output_type": "execute_result"
    }
   ],
   "source": [
    "churnData.dtypes"
   ]
  },
  {
   "cell_type": "code",
   "execution_count": 4,
   "id": "5dba8d89-e20b-46a4-8738-f2378f942860",
   "metadata": {},
   "outputs": [],
   "source": [
    "churnData['TotalCharges'] = pd.to_numeric(churnData['TotalCharges'],errors='coerce')"
   ]
  },
  {
   "cell_type": "code",
   "execution_count": 5,
   "id": "97fe6c17-093c-4c9c-8c0e-d1187cdcfe45",
   "metadata": {},
   "outputs": [
    {
     "data": {
      "text/plain": [
       "gender               0\n",
       "SeniorCitizen        0\n",
       "Partner              0\n",
       "Dependents           0\n",
       "tenure               0\n",
       "PhoneService         0\n",
       "OnlineSecurity       0\n",
       "OnlineBackup         0\n",
       "DeviceProtection     0\n",
       "TechSupport          0\n",
       "StreamingTV          0\n",
       "StreamingMovies      0\n",
       "Contract             0\n",
       "MonthlyCharges       0\n",
       "TotalCharges        11\n",
       "Churn                0\n",
       "dtype: int64"
      ]
     },
     "execution_count": 5,
     "metadata": {},
     "output_type": "execute_result"
    }
   ],
   "source": [
    "churnData.isna().sum()"
   ]
  },
  {
   "cell_type": "code",
   "execution_count": 6,
   "id": "fa60badc-8eb0-4788-9885-71f0bb9bdfa1",
   "metadata": {},
   "outputs": [],
   "source": [
    "churnData['TotalCharges'].value_counts(dropna=False)\n",
    "churnData['Churn']=churnData['Churn'].replace(\"Yes\",1)\n",
    "churnData['Churn']=churnData['Churn'].replace(\"No\",0)"
   ]
  },
  {
   "cell_type": "code",
   "execution_count": 7,
   "id": "fe7722a9-7b26-4fb8-b65d-443f2385bf1a",
   "metadata": {},
   "outputs": [],
   "source": [
    "churnData['TotalCharges']=churnData['TotalCharges'].fillna(churnData['TotalCharges'].mean())"
   ]
  },
  {
   "cell_type": "code",
   "execution_count": 8,
   "id": "736213cd-7465-4bd6-b4f5-58b13a111add",
   "metadata": {},
   "outputs": [
    {
     "data": {
      "text/plain": [
       "gender              0\n",
       "SeniorCitizen       0\n",
       "Partner             0\n",
       "Dependents          0\n",
       "tenure              0\n",
       "PhoneService        0\n",
       "OnlineSecurity      0\n",
       "OnlineBackup        0\n",
       "DeviceProtection    0\n",
       "TechSupport         0\n",
       "StreamingTV         0\n",
       "StreamingMovies     0\n",
       "Contract            0\n",
       "MonthlyCharges      0\n",
       "TotalCharges        0\n",
       "Churn               0\n",
       "dtype: int64"
      ]
     },
     "execution_count": 8,
     "metadata": {},
     "output_type": "execute_result"
    }
   ],
   "source": [
    "churnData.isna().sum()"
   ]
  },
  {
   "cell_type": "code",
   "execution_count": 9,
   "id": "8200298f-6a51-4efc-aa1e-6432a8005652",
   "metadata": {},
   "outputs": [],
   "source": [
    "# X/y Split\n",
    "\n",
    "X = churnData.drop('Churn', axis=1)\n",
    "y = churnData['Churn']\n",
    "\n",
    "# Train/Test Split\n",
    "\n",
    "from sklearn.model_selection import train_test_split\n",
    "X_train, X_test, y_train, y_test = train_test_split(X, y, random_state=0)"
   ]
  },
  {
   "cell_type": "code",
   "execution_count": 10,
   "id": "54b31c13-62dd-47a2-b197-36df7aa3e308",
   "metadata": {},
   "outputs": [
    {
     "data": {
      "text/html": [
       "<div>\n",
       "<style scoped>\n",
       "    .dataframe tbody tr th:only-of-type {\n",
       "        vertical-align: middle;\n",
       "    }\n",
       "\n",
       "    .dataframe tbody tr th {\n",
       "        vertical-align: top;\n",
       "    }\n",
       "\n",
       "    .dataframe thead th {\n",
       "        text-align: right;\n",
       "    }\n",
       "</style>\n",
       "<table border=\"1\" class=\"dataframe\">\n",
       "  <thead>\n",
       "    <tr style=\"text-align: right;\">\n",
       "      <th></th>\n",
       "      <th>tenure</th>\n",
       "      <th>SeniorCitizen</th>\n",
       "      <th>MonthlyCharges</th>\n",
       "      <th>TotalCharges</th>\n",
       "    </tr>\n",
       "  </thead>\n",
       "  <tbody>\n",
       "    <tr>\n",
       "      <th>0</th>\n",
       "      <td>-0.340191</td>\n",
       "      <td>-0.435476</td>\n",
       "      <td>-0.514314</td>\n",
       "      <td>-0.462171</td>\n",
       "    </tr>\n",
       "    <tr>\n",
       "      <th>1</th>\n",
       "      <td>0.883210</td>\n",
       "      <td>2.296336</td>\n",
       "      <td>0.017840</td>\n",
       "      <td>0.555404</td>\n",
       "    </tr>\n",
       "    <tr>\n",
       "      <th>2</th>\n",
       "      <td>-1.196572</td>\n",
       "      <td>-0.435476</td>\n",
       "      <td>-0.819594</td>\n",
       "      <td>-0.950644</td>\n",
       "    </tr>\n",
       "    <tr>\n",
       "      <th>3</th>\n",
       "      <td>1.168670</td>\n",
       "      <td>-0.435476</td>\n",
       "      <td>-1.483535</td>\n",
       "      <td>-0.441989</td>\n",
       "    </tr>\n",
       "    <tr>\n",
       "      <th>4</th>\n",
       "      <td>-0.829552</td>\n",
       "      <td>-0.435476</td>\n",
       "      <td>0.658427</td>\n",
       "      <td>-0.539130</td>\n",
       "    </tr>\n",
       "  </tbody>\n",
       "</table>\n",
       "</div>"
      ],
      "text/plain": [
       "     tenure  SeniorCitizen  MonthlyCharges  TotalCharges\n",
       "0 -0.340191      -0.435476       -0.514314     -0.462171\n",
       "1  0.883210       2.296336        0.017840      0.555404\n",
       "2 -1.196572      -0.435476       -0.819594     -0.950644\n",
       "3  1.168670      -0.435476       -1.483535     -0.441989\n",
       "4 -0.829552      -0.435476        0.658427     -0.539130"
      ]
     },
     "execution_count": 10,
     "metadata": {},
     "output_type": "execute_result"
    }
   ],
   "source": [
    "# Splitting my numerical values\n",
    "\n",
    "X_train_num = X_train[['tenure','SeniorCitizen','MonthlyCharges','TotalCharges']]\n",
    "X_test_num = X_test[['tenure','SeniorCitizen','MonthlyCharges','TotalCharges']]\n",
    "\n",
    "from sklearn.preprocessing import StandardScaler\n",
    "\n",
    "transformer = StandardScaler().fit(X_train_num)\n",
    "X_train_scaled = pd.DataFrame(transformer.transform(X_train_num),columns=X_train_num.columns)\n",
    "X_test_scaled = pd.DataFrame(transformer.transform(X_test_num),columns=X_test_num.columns)\n",
    "X_train_scaled.head()"
   ]
  },
  {
   "cell_type": "code",
   "execution_count": 11,
   "id": "9c5e4801-d066-4d15-a546-4e502b6cc0cd",
   "metadata": {},
   "outputs": [
    {
     "name": "stdout",
     "output_type": "stream",
     "text": [
      "score:  0.7830777967064169\n"
     ]
    }
   ],
   "source": [
    "from sklearn.linear_model import LogisticRegression\n",
    "\n",
    "y_train = y_train.reset_index(drop=True) \n",
    "y_test = y_test.reset_index(drop=True) \n",
    "\n",
    "LR = LogisticRegression(random_state=32, solver='lbfgs')\n",
    "LR.fit(X_train_scaled, y_train)\n",
    "print(\"score: \",LR.score(X_test_scaled, y_test))"
   ]
  },
  {
   "cell_type": "code",
   "execution_count": 12,
   "id": "0dafc801-d47d-4e2e-8a69-f30f90e3465c",
   "metadata": {},
   "outputs": [
    {
     "data": {
      "text/plain": [
       "<AxesSubplot:>"
      ]
     },
     "execution_count": 12,
     "metadata": {},
     "output_type": "execute_result"
    },
    {
     "data": {
      "image/png": "[encoded data removed]",
      "text/plain": [
       "<Figure size 432x288 with 1 Axes>"
      ]
     },
     "metadata": {
      "needs_background": "light"
     },
     "output_type": "display_data"
    }
   ],
   "source": [
    "# Checking for data imbalance\n",
    "count_classes = y_test.value_counts()\n",
    "count_classes.plot(kind = 'bar')"
   ]
  },
  {
   "cell_type": "markdown",
   "id": "0205fba2-250d-42ab-9e7b-d088f9e1ea7e",
   "metadata": {},
   "source": [
    "### Downsampling"
   ]
  },
  {
   "cell_type": "code",
   "execution_count": 13,
   "id": "a8614b8b-670d-43e9-8303-54a6071642d2",
   "metadata": {},
   "outputs": [],
   "source": [
    "from sklearn.utils import resample\n",
    "\n",
    "category_0 = churnData[churnData['Churn'] == 0]\n",
    "category_1 = churnData[churnData['Churn'] == 1]\n",
    "\n",
    "category_0_undersampled = resample(category_0, \n",
    "                                   replace=False, \n",
    "                                   n_samples = len(category_1))"
   ]
  },
  {
   "cell_type": "code",
   "execution_count": 14,
   "id": "cf49f6b7-844e-468b-b427-b36de36e69ff",
   "metadata": {},
   "outputs": [
    {
     "name": "stdout",
     "output_type": "stream",
     "text": [
      "(1869, 16)\n",
      "(1869, 16)\n"
     ]
    }
   ],
   "source": [
    "print(category_0_undersampled.shape)\n",
    "print(category_1.shape)"
   ]
  },
  {
   "cell_type": "code",
   "execution_count": 15,
   "id": "234778a2-c403-4924-9d30-2399c6cffad6",
   "metadata": {},
   "outputs": [
    {
     "data": {
      "text/plain": [
       "0    1869\n",
       "1    1869\n",
       "Name: Churn, dtype: int64"
      ]
     },
     "execution_count": 15,
     "metadata": {},
     "output_type": "execute_result"
    }
   ],
   "source": [
    "churn_downsampled = pd.concat([category_0_undersampled, category_1], axis=0)\n",
    "churn_downsampled['Churn'].value_counts()"
   ]
  },
  {
   "cell_type": "code",
   "execution_count": 16,
   "id": "d2952f06-f45e-4bae-bbd8-56d42e47d8e6",
   "metadata": {},
   "outputs": [],
   "source": [
    "# X/y Split\n",
    "\n",
    "X = churn_downsampled.drop('Churn', axis=1)\n",
    "y = churn_downsampled['Churn']\n",
    "\n",
    "# Train/Test Split\n",
    "\n",
    "from sklearn.model_selection import train_test_split\n",
    "X_train, X_test, y_train, y_test = train_test_split(X, y, random_state=0)"
   ]
  },
  {
   "cell_type": "code",
   "execution_count": 17,
   "id": "6ba5418d-6db4-4c31-b813-3a735bd7d967",
   "metadata": {},
   "outputs": [
    {
     "data": {
      "text/html": [
       "<div>\n",
       "<style scoped>\n",
       "    .dataframe tbody tr th:only-of-type {\n",
       "        vertical-align: middle;\n",
       "    }\n",
       "\n",
       "    .dataframe tbody tr th {\n",
       "        vertical-align: top;\n",
       "    }\n",
       "\n",
       "    .dataframe thead th {\n",
       "        text-align: right;\n",
       "    }\n",
       "</style>\n",
       "<table border=\"1\" class=\"dataframe\">\n",
       "  <thead>\n",
       "    <tr style=\"text-align: right;\">\n",
       "      <th></th>\n",
       "      <th>tenure</th>\n",
       "      <th>SeniorCitizen</th>\n",
       "      <th>MonthlyCharges</th>\n",
       "      <th>TotalCharges</th>\n",
       "    </tr>\n",
       "  </thead>\n",
       "  <tbody>\n",
       "    <tr>\n",
       "      <th>0</th>\n",
       "      <td>0.161640</td>\n",
       "      <td>-0.466516</td>\n",
       "      <td>-1.645973</td>\n",
       "      <td>-0.628806</td>\n",
       "    </tr>\n",
       "    <tr>\n",
       "      <th>1</th>\n",
       "      <td>-1.126930</td>\n",
       "      <td>-0.466516</td>\n",
       "      <td>-1.517364</td>\n",
       "      <td>-0.939610</td>\n",
       "    </tr>\n",
       "    <tr>\n",
       "      <th>2</th>\n",
       "      <td>-0.877529</td>\n",
       "      <td>-0.466516</td>\n",
       "      <td>0.039844</td>\n",
       "      <td>-0.716557</td>\n",
       "    </tr>\n",
       "    <tr>\n",
       "      <th>3</th>\n",
       "      <td>-0.794395</td>\n",
       "      <td>-0.466516</td>\n",
       "      <td>-0.789161</td>\n",
       "      <td>-0.758353</td>\n",
       "    </tr>\n",
       "    <tr>\n",
       "      <th>4</th>\n",
       "      <td>-0.711262</td>\n",
       "      <td>2.143551</td>\n",
       "      <td>1.513630</td>\n",
       "      <td>-0.404113</td>\n",
       "    </tr>\n",
       "  </tbody>\n",
       "</table>\n",
       "</div>"
      ],
      "text/plain": [
       "     tenure  SeniorCitizen  MonthlyCharges  TotalCharges\n",
       "0  0.161640      -0.466516       -1.645973     -0.628806\n",
       "1 -1.126930      -0.466516       -1.517364     -0.939610\n",
       "2 -0.877529      -0.466516        0.039844     -0.716557\n",
       "3 -0.794395      -0.466516       -0.789161     -0.758353\n",
       "4 -0.711262       2.143551        1.513630     -0.404113"
      ]
     },
     "execution_count": 17,
     "metadata": {},
     "output_type": "execute_result"
    }
   ],
   "source": [
    "# Splitting my numerical values\n",
    "\n",
    "X_train_num = X_train[['tenure','SeniorCitizen','MonthlyCharges','TotalCharges']]\n",
    "X_test_num = X_test[['tenure','SeniorCitizen','MonthlyCharges','TotalCharges']]\n",
    "\n",
    "from sklearn.preprocessing import StandardScaler\n",
    "\n",
    "transformer = StandardScaler().fit(X_train_num)\n",
    "X_train_scaled = pd.DataFrame(transformer.transform(X_train_num),columns=X_train_num.columns)\n",
    "X_test_scaled = pd.DataFrame(transformer.transform(X_test_num),columns=X_test_num.columns)\n",
    "X_train_scaled.head()"
   ]
  },
  {
   "cell_type": "code",
   "execution_count": 18,
   "id": "7ff03bba-d447-4ac2-b552-9b490c54d8be",
   "metadata": {},
   "outputs": [
    {
     "name": "stdout",
     "output_type": "stream",
     "text": [
      "score:  0.7262032085561497\n"
     ]
    }
   ],
   "source": [
    "from sklearn.linear_model import LogisticRegression\n",
    "\n",
    "y_train = y_train.reset_index(drop=True) \n",
    "y_test = y_test.reset_index(drop=True) \n",
    "\n",
    "LR = LogisticRegression(random_state=32, solver='lbfgs')\n",
    "LR.fit(X_train_scaled, y_train)\n",
    "print(\"score: \",LR.score(X_test_scaled, y_test))"
   ]
  },
  {
   "cell_type": "markdown",
   "id": "7936daf6-1bb3-4116-8d3d-7e377f8ae11d",
   "metadata": {},
   "source": [
    "### Upsampling"
   ]
  },
  {
   "cell_type": "code",
   "execution_count": 19,
   "id": "603051e8-561d-4627-a4fb-af38048d0375",
   "metadata": {},
   "outputs": [],
   "source": [
    "category_1_oversampled = resample(category_1, \n",
    "                                  replace=True, \n",
    "                                  n_samples = len(category_0))"
   ]
  },
  {
   "cell_type": "code",
   "execution_count": 20,
   "id": "92dfa3e6-5203-4cea-ae79-de28b77c708d",
   "metadata": {},
   "outputs": [
    {
     "name": "stdout",
     "output_type": "stream",
     "text": [
      "(5174, 16)\n",
      "(5174, 16)\n"
     ]
    }
   ],
   "source": [
    "print(category_0.shape)\n",
    "print(category_1_oversampled.shape)"
   ]
  },
  {
   "cell_type": "code",
   "execution_count": 21,
   "id": "1b3e0a04-5570-4943-9ea5-9e5067ad0dde",
   "metadata": {},
   "outputs": [
    {
     "data": {
      "text/plain": [
       "0    5174\n",
       "1    5174\n",
       "Name: Churn, dtype: int64"
      ]
     },
     "execution_count": 21,
     "metadata": {},
     "output_type": "execute_result"
    }
   ],
   "source": [
    "churn_upsampled = pd.concat([category_0, category_1_oversampled], axis=0)\n",
    "churn_upsampled['Churn'].value_counts()"
   ]
  },
  {
   "cell_type": "code",
   "execution_count": 22,
   "id": "0a9f3191-f2c0-45fd-be61-43436d5d86c9",
   "metadata": {},
   "outputs": [],
   "source": [
    "# X/y Split\n",
    "\n",
    "X = churn_upsampled.drop('Churn', axis=1)\n",
    "y = churn_upsampled['Churn']\n",
    "\n",
    "# Train/Test Split\n",
    "\n",
    "from sklearn.model_selection import train_test_split\n",
    "X_train, X_test, y_train, y_test = train_test_split(X, y, random_state=0)"
   ]
  },
  {
   "cell_type": "code",
   "execution_count": 23,
   "id": "d8759bbe-6f3f-4d2b-b9be-a51e3e65a01a",
   "metadata": {},
   "outputs": [
    {
     "data": {
      "text/html": [
       "<div>\n",
       "<style scoped>\n",
       "    .dataframe tbody tr th:only-of-type {\n",
       "        vertical-align: middle;\n",
       "    }\n",
       "\n",
       "    .dataframe tbody tr th {\n",
       "        vertical-align: top;\n",
       "    }\n",
       "\n",
       "    .dataframe thead th {\n",
       "        text-align: right;\n",
       "    }\n",
       "</style>\n",
       "<table border=\"1\" class=\"dataframe\">\n",
       "  <thead>\n",
       "    <tr style=\"text-align: right;\">\n",
       "      <th></th>\n",
       "      <th>tenure</th>\n",
       "      <th>SeniorCitizen</th>\n",
       "      <th>MonthlyCharges</th>\n",
       "      <th>TotalCharges</th>\n",
       "    </tr>\n",
       "  </thead>\n",
       "  <tbody>\n",
       "    <tr>\n",
       "      <th>0</th>\n",
       "      <td>-0.454483</td>\n",
       "      <td>-0.484608</td>\n",
       "      <td>-1.489565</td>\n",
       "      <td>-0.764597</td>\n",
       "    </tr>\n",
       "    <tr>\n",
       "      <th>1</th>\n",
       "      <td>-1.119749</td>\n",
       "      <td>-0.484608</td>\n",
       "      <td>0.060102</td>\n",
       "      <td>-0.908025</td>\n",
       "    </tr>\n",
       "    <tr>\n",
       "      <th>2</th>\n",
       "      <td>1.333421</td>\n",
       "      <td>-0.484608</td>\n",
       "      <td>-1.671573</td>\n",
       "      <td>-0.423074</td>\n",
       "    </tr>\n",
       "    <tr>\n",
       "      <th>3</th>\n",
       "      <td>-0.703958</td>\n",
       "      <td>2.063524</td>\n",
       "      <td>0.247310</td>\n",
       "      <td>-0.584739</td>\n",
       "    </tr>\n",
       "    <tr>\n",
       "      <th>4</th>\n",
       "      <td>1.167104</td>\n",
       "      <td>-0.484608</td>\n",
       "      <td>0.457052</td>\n",
       "      <td>1.177223</td>\n",
       "    </tr>\n",
       "  </tbody>\n",
       "</table>\n",
       "</div>"
      ],
      "text/plain": [
       "     tenure  SeniorCitizen  MonthlyCharges  TotalCharges\n",
       "0 -0.454483      -0.484608       -1.489565     -0.764597\n",
       "1 -1.119749      -0.484608        0.060102     -0.908025\n",
       "2  1.333421      -0.484608       -1.671573     -0.423074\n",
       "3 -0.703958       2.063524        0.247310     -0.584739\n",
       "4  1.167104      -0.484608        0.457052      1.177223"
      ]
     },
     "execution_count": 23,
     "metadata": {},
     "output_type": "execute_result"
    }
   ],
   "source": [
    "# Splitting my numerical values\n",
    "\n",
    "X_train_num = X_train[['tenure','SeniorCitizen','MonthlyCharges','TotalCharges']]\n",
    "X_test_num = X_test[['tenure','SeniorCitizen','MonthlyCharges','TotalCharges']]\n",
    "\n",
    "from sklearn.preprocessing import StandardScaler\n",
    "\n",
    "transformer = StandardScaler().fit(X_train_num)\n",
    "X_train_scaled = pd.DataFrame(transformer.transform(X_train_num),columns=X_train_num.columns)\n",
    "X_test_scaled = pd.DataFrame(transformer.transform(X_test_num),columns=X_test_num.columns)\n",
    "X_train_scaled.head()"
   ]
  },
  {
   "cell_type": "code",
   "execution_count": 24,
   "id": "e6325192-4f37-4737-a525-0df2d6a01267",
   "metadata": {},
   "outputs": [
    {
     "name": "stdout",
     "output_type": "stream",
     "text": [
      "score:  0.7267104754541941\n"
     ]
    }
   ],
   "source": [
    "from sklearn.linear_model import LogisticRegression\n",
    "\n",
    "y_train = y_train.reset_index(drop=True) \n",
    "y_test = y_test.reset_index(drop=True) \n",
    "\n",
    "LR = LogisticRegression(random_state=32, solver='lbfgs')\n",
    "LR.fit(X_train_scaled, y_train)\n",
    "print(\"score: \",LR.score(X_test_scaled, y_test))"
   ]
  },
  {
   "cell_type": "code",
   "execution_count": null,
   "id": "e9c36a0d-76b0-4e90-83d5-a16ffcdd5434",
   "metadata": {},
   "outputs": [],
   "source": []
  }
 ],
 "metadata": {
  "kernelspec": {
   "display_name": "Python 3 (ipykernel)",
   "language": "python",
   "name": "python3"
  },
  "language_info": {
   "codemirror_mode": {
    "name": "ipython",
    "version": 3
   },
   "file_extension": ".py",
   "mimetype": "text/x-python",
   "name": "python",
   "nbconvert_exporter": "python",
   "pygments_lexer": "ipython3",
   "version": "3.9.7"
  }
 },
 "nbformat": 4,
 "nbformat_minor": 5
}
